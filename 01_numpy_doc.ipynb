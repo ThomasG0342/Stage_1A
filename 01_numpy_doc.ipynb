{
 "cells": [
  {
   "cell_type": "markdown",
   "metadata": {},
   "source": [
    "<h1  style=\"background-color: #d5dbdb; color:blue;padding:25px;border-radius: 25px; \"> \n",
    "numpy\n",
    "</h1>"
   ]
  },
  {
   "cell_type": "code",
   "execution_count": 1,
   "metadata": {},
   "outputs": [],
   "source": [
    "import numpy"
   ]
  },
  {
   "cell_type": "code",
   "execution_count": null,
   "metadata": {},
   "outputs": [],
   "source": [
    "# matrice vide\n",
    "numpy.empty([3, 2]) # 3-lignes , 2-cols"
   ]
  },
  {
   "cell_type": "code",
   "execution_count": null,
   "metadata": {},
   "outputs": [],
   "source": [
    "# matrice nulle\n",
    "numpy.zeros(4)"
   ]
  },
  {
   "cell_type": "code",
   "execution_count": null,
   "metadata": {},
   "outputs": [],
   "source": [
    "numpy.zeros([3,6])"
   ]
  },
  {
   "cell_type": "code",
   "execution_count": null,
   "metadata": {},
   "outputs": [],
   "source": [
    "numpy.ones([3,3])"
   ]
  },
  {
   "cell_type": "code",
   "execution_count": null,
   "metadata": {},
   "outputs": [],
   "source": [
    "[1]*4"
   ]
  },
  {
   "cell_type": "code",
   "execution_count": null,
   "metadata": {},
   "outputs": [],
   "source": [
    "[0]*5"
   ]
  },
  {
   "cell_type": "code",
   "execution_count": null,
   "metadata": {},
   "outputs": [],
   "source": [
    "# création d'un vecteur\n",
    "v=numpy.array([2,1,5])\n",
    "v"
   ]
  },
  {
   "cell_type": "code",
   "execution_count": null,
   "metadata": {},
   "outputs": [],
   "source": [
    "v[0]"
   ]
  },
  {
   "cell_type": "code",
   "execution_count": null,
   "metadata": {},
   "outputs": [],
   "source": [
    "v[1]"
   ]
  },
  {
   "cell_type": "code",
   "execution_count": null,
   "metadata": {},
   "outputs": [],
   "source": [
    "# dim de v\n",
    "v.shape"
   ]
  },
  {
   "cell_type": "code",
   "execution_count": null,
   "metadata": {},
   "outputs": [],
   "source": [
    "v2=numpy.array([[1,5,6],[0,14,17]])\n",
    "v2"
   ]
  },
  {
   "cell_type": "code",
   "execution_count": null,
   "metadata": {},
   "outputs": [],
   "source": [
    "# dim de v2\n",
    "v2.shape"
   ]
  },
  {
   "cell_type": "markdown",
   "metadata": {},
   "source": [
    "<h3  style=\"background-color: #d5dbdb; color:blue;padding:25px;border-radius: 25px; \">\n",
    "v2[i,j] :  i-1 ème ligne, j-1 ème col \n",
    "</h3>"
   ]
  },
  {
   "cell_type": "code",
   "execution_count": null,
   "metadata": {},
   "outputs": [],
   "source": [
    "v2[1,1] # 2ème ligne, 2ème col"
   ]
  },
  {
   "cell_type": "code",
   "execution_count": null,
   "metadata": {},
   "outputs": [],
   "source": [
    "v2[0,:] # 2ème ligne"
   ]
  },
  {
   "cell_type": "code",
   "execution_count": null,
   "metadata": {},
   "outputs": [],
   "source": [
    "# matrice aléatoire à 3-lignes, 5-colonnes dont les élément sont dans l'ensemble {-5,..10}\n",
    "v3=numpy.random.randint(-5,11,size=[3,5])\n",
    "v3"
   ]
  },
  {
   "cell_type": "code",
   "execution_count": null,
   "metadata": {},
   "outputs": [],
   "source": [
    "v3[:,3] # 4ème col"
   ]
  },
  {
   "cell_type": "code",
   "execution_count": null,
   "metadata": {},
   "outputs": [],
   "source": [
    "# \n",
    "XX=numpy.random.randint(-7,11,size=15)\n",
    "print(XX)\n",
    "print(\" éléments 0--7 avec incrément 2 \\n\")\n",
    "print(XX[:7:2])  ## éléments 0--7 avec incrément 2\n",
    "\n",
    "XX[::-1]\n",
    "print(\"inverser l'ordre \\n\")\n",
    "print(XX[::-1])"
   ]
  },
  {
   "cell_type": "code",
   "execution_count": null,
   "metadata": {},
   "outputs": [],
   "source": [
    "# création de matrices\n",
    "\n",
    "M = numpy.array([[\"({:},{:})\".format(1+nb_col,1+nb_ligne) for nb_col in range(4)] for nb_ligne in range(6)]) \n",
    "M"
   ]
  },
  {
   "cell_type": "code",
   "execution_count": null,
   "metadata": {},
   "outputs": [],
   "source": [
    "M.shape"
   ]
  },
  {
   "cell_type": "markdown",
   "metadata": {},
   "source": [
    "<h2  style=\"background-color: #d5dbdb; color:blue;padding:25px;border-radius: 25px; \"> \n",
    "Transposé d'une matrice </h2>"
   ]
  },
  {
   "cell_type": "code",
   "execution_count": null,
   "metadata": {},
   "outputs": [],
   "source": [
    "N=numpy.random.randint(-5,10,size=[2,3])\n",
    "print(\"N=\",N)\n",
    "# transposé de N\n",
    "print(\"\\n\")\n",
    "print(\"# transposé : \\n\")\n",
    "N.T"
   ]
  },
  {
   "cell_type": "markdown",
   "metadata": {},
   "source": [
    "<h2  style=\"background-color: #d5dbdb; color:blue;padding:25px;border-radius: 25px; \"> \n",
    "Multipication\n",
    "</h2>"
   ]
  },
  {
   "cell_type": "code",
   "execution_count": null,
   "metadata": {},
   "outputs": [],
   "source": [
    "v4=numpy.random.randint(-5,11,size=[2,5])\n",
    "v5=numpy.random.randint(-7,8,size=[4,2])\n",
    "\n",
    "print('v4=',v4)\n",
    "print('v5=',v5)\n",
    "\n",
    "# produit : v5xv2 : (4,2)x(2,5) --> matrice : (4,5)\n",
    "P=numpy.matmul(v5, v4)\n",
    "print(\"Produit v5*v4= %s\" %P)"
   ]
  },
  {
   "cell_type": "markdown",
   "metadata": {},
   "source": [
    "<h2  style=\"background-color: #d5dbdb; color:blue;padding:25px;border-radius: 25px; \">\n",
    "Produit scalaire\n",
    "</h2>"
   ]
  },
  {
   "cell_type": "code",
   "execution_count": null,
   "metadata": {},
   "outputs": [],
   "source": [
    "v6=numpy.random.randint(-2,2,size=5)\n",
    "v6"
   ]
  },
  {
   "cell_type": "code",
   "execution_count": null,
   "metadata": {},
   "outputs": [],
   "source": [
    "v7=numpy.random.randint(0,9,size=5)\n",
    "v7"
   ]
  },
  {
   "cell_type": "code",
   "execution_count": null,
   "metadata": {},
   "outputs": [],
   "source": [
    "numpy.dot(v6,v7)"
   ]
  },
  {
   "cell_type": "code",
   "execution_count": null,
   "metadata": {},
   "outputs": [],
   "source": [
    "numpy.dot(v7,v6)"
   ]
  },
  {
   "cell_type": "code",
   "execution_count": null,
   "metadata": {},
   "outputs": [],
   "source": [
    "#\n",
    "M1=numpy.random.randint(-11,13,size=12)\n",
    "print(M1)\n",
    "M1.reshape((3,4)) # 3-ligne, 4-col"
   ]
  },
  {
   "cell_type": "markdown",
   "metadata": {},
   "source": [
    "<h2  style=\"background-color: #d5dbdb; color:blue;padding:25px;border-radius: 25px; \"> \n",
    "Opérations sur les lignes et les colonnes d'une matrice\n",
    "</h2>"
   ]
  },
  {
   "cell_type": "code",
   "execution_count": null,
   "metadata": {},
   "outputs": [],
   "source": [
    "import numpy\n",
    "M2=numpy.random.randint(-11,13,size=[3,7])\n",
    "M2"
   ]
  },
  {
   "cell_type": "markdown",
   "metadata": {},
   "source": [
    "<h3  style=\"background-color: #d5dbdb; color:blue;padding:25px;border-radius: 25px; \"> \n",
    "somme des colonnes\n",
    "</h3>"
   ]
  },
  {
   "cell_type": "code",
   "execution_count": null,
   "metadata": {},
   "outputs": [],
   "source": [
    "numpy.sum(M2, axis=0) # somme des cols"
   ]
  },
  {
   "cell_type": "markdown",
   "metadata": {},
   "source": [
    "<h3  style=\"background-color: #d5dbdb; color:blue;padding:25px;border-radius: 25px; \"> \n",
    "somme des lignes\n",
    "</h3>"
   ]
  },
  {
   "cell_type": "code",
   "execution_count": null,
   "metadata": {},
   "outputs": [],
   "source": [
    "numpy.sum(M2, axis=1) # somme des lignes"
   ]
  },
  {
   "cell_type": "markdown",
   "metadata": {},
   "source": [
    "<h3  style=\"background-color: #d5dbdb; color:blue;padding:25px;border-radius: 25px; \"> \n",
    "max des colonnes\n",
    "</h3>"
   ]
  },
  {
   "cell_type": "code",
   "execution_count": null,
   "metadata": {},
   "outputs": [],
   "source": [
    "numpy.max(M2, axis=0) # max des cols"
   ]
  },
  {
   "cell_type": "markdown",
   "metadata": {},
   "source": [
    "<h3  style=\"background-color: #d5dbdb; color:blue;padding:25px;border-radius: 25px; \"> \n",
    "max des lignes\n",
    "</h3>"
   ]
  },
  {
   "cell_type": "code",
   "execution_count": null,
   "metadata": {},
   "outputs": [],
   "source": [
    "numpy.max(M2, axis=1) # max des lignes"
   ]
  },
  {
   "cell_type": "markdown",
   "metadata": {},
   "source": [
    "<h3  style=\"background-color: #d5dbdb; color:blue;padding:25px;border-radius: 25px; \"> \n",
    "min des colonnes\n",
    "</h3>"
   ]
  },
  {
   "cell_type": "code",
   "execution_count": null,
   "metadata": {},
   "outputs": [],
   "source": [
    "numpy.min(M2, axis=0) # min des cols"
   ]
  },
  {
   "cell_type": "markdown",
   "metadata": {},
   "source": [
    "<h3  style=\"background-color: #d5dbdb; color:blue;padding:25px;border-radius: 25px; \"> \n",
    "min des lignes\n",
    "</h3>"
   ]
  },
  {
   "cell_type": "code",
   "execution_count": null,
   "metadata": {},
   "outputs": [],
   "source": [
    "numpy.min(M2, axis=1) # min des lignes"
   ]
  },
  {
   "cell_type": "markdown",
   "metadata": {},
   "source": [
    "<h3  style=\"background-color: #d5dbdb; color:blue;padding:25px;border-radius: 25px; \"> \n",
    "moyenne empirique des colonnes\n",
    "</h3>"
   ]
  },
  {
   "cell_type": "code",
   "execution_count": null,
   "metadata": {},
   "outputs": [],
   "source": [
    "numpy.mean(M2, axis=0) # moyenne des cols"
   ]
  },
  {
   "cell_type": "markdown",
   "metadata": {},
   "source": [
    "<h3  style=\"background-color: #d5dbdb; color:blue;padding:25px;border-radius: 25px; \"> \n",
    "moyenne empirique des lignes\n",
    "</h3>"
   ]
  },
  {
   "cell_type": "code",
   "execution_count": null,
   "metadata": {},
   "outputs": [],
   "source": [
    "numpy.mean(M2, axis=1) # moyenne des lignes"
   ]
  },
  {
   "cell_type": "markdown",
   "metadata": {},
   "source": [
    "<h3  style=\"background-color: #d5dbdb; color:blue;padding:25px;border-radius: 25px; \"> \n",
    "variancee empirique des colonnes\n",
    "</h3>"
   ]
  },
  {
   "cell_type": "code",
   "execution_count": null,
   "metadata": {},
   "outputs": [],
   "source": [
    "numpy.var(M2, axis=0) # variance des cols"
   ]
  },
  {
   "cell_type": "markdown",
   "metadata": {},
   "source": [
    "<h3  style=\"background-color: #d5dbdb; color:blue;padding:25px;border-radius: 25px; \"> \n",
    "variance empirique des lignes\n",
    "</h3>"
   ]
  },
  {
   "cell_type": "code",
   "execution_count": null,
   "metadata": {},
   "outputs": [],
   "source": [
    "numpy.var(M2, axis=1) # variance des lignes"
   ]
  },
  {
   "cell_type": "code",
   "execution_count": null,
   "metadata": {},
   "outputs": [],
   "source": [
    "MM=[5,8,9]\n",
    "for x in MM:\n",
    "    print(x)"
   ]
  },
  {
   "cell_type": "code",
   "execution_count": null,
   "metadata": {},
   "outputs": [],
   "source": [
    "import numpy\n",
    "NN=[5,7,4]\n",
    "X=[]\n",
    "for n in NN:\n",
    "    X.append(numpy.random.randint(-4,4,n))\n",
    "\n",
    "print(X)\n",
    "\n",
    "print('***'*30)\n",
    "\n",
    "# moyenne de chaque composant\n",
    "M=[numpy.mean(X[i]) for i in range(len(X))]\n",
    "\n",
    "for i in range(len(X)):\n",
    "    print(\"X=%s , moyenne de X = %.4f \\n\"%(X[i],M[i]))\n"
   ]
  },
  {
   "cell_type": "markdown",
   "metadata": {},
   "source": [
    "<h2  style=\"background-color: #d5dbdb; color:blue;padding:25px;border-radius: 25px; \"> \n",
    "Indices\n",
    "</h2>"
   ]
  },
  {
   "cell_type": "markdown",
   "metadata": {},
   "source": [
    "<h3  style=\"background-color: #d5dbdb; color:blue;padding:25px;border-radius: 25px; \"> \n",
    "numpy.where\n",
    "</h3>"
   ]
  },
  {
   "cell_type": "code",
   "execution_count": null,
   "metadata": {
    "scrolled": true
   },
   "outputs": [],
   "source": [
    "import numpy\n",
    "\n",
    "A=numpy.random.randint(-11,5,13)\n",
    "print('A=',A)\n",
    "print(\"\\n\")\n",
    "indice_positis= A>=0 \n",
    "\n",
    "\n",
    "print('indice A>=0 :',indice_positis)\n",
    "B=A[indice_positis]\n",
    "print(B)\n",
    "\n",
    "#where\n",
    "print(\" numpy.where\")\n",
    "X = numpy.arange(-2,11,1)\n",
    "print(\"X=\",X)\n",
    "I=numpy.where( X > 5 )\n",
    "print(\"I=numpy.where( X > 5 )=%s\"%I)\n",
    "print([X[j] for j in I][0])\n",
    "\n",
    "print(\" numpy.take \")\n",
    "\n",
    "B = numpy.random.randint(-1,29,13)\n",
    "indices = [0, 3, 7,10]\n",
    "BB=numpy.take(B, indices)\n",
    "print(B)\n",
    "print(\"indices=%s\"%indices)\n",
    "print(BB)"
   ]
  },
  {
   "cell_type": "markdown",
   "metadata": {},
   "source": [
    "<h3  style=\"background-color: #d5dbdb; color:blue;padding:25px;border-radius: 25px; \"> \n",
    "numpy.select\n",
    "</h3>"
   ]
  },
  {
   "cell_type": "code",
   "execution_count": null,
   "metadata": {},
   "outputs": [],
   "source": [
    "# numpy.select\n",
    "C = numpy.random.randint(-7,19,15)\n",
    "conditions = [C<2, C>5]\n",
    "Vecteur = [C, C**2]\n",
    "CC=numpy.select(conditions, Vecteur)\n",
    "print(\"------------------------------\")\n",
    "print(\"numpy.select\")\n",
    "print(\"------------------------------\")\n",
    "print(\"C=\",C)\n",
    "print(\"------------Vecteur = [C, C**2] ------------------\\n\")\n",
    "print(Vecteur)\n",
    "print(\"------------------------------\\n\")\n",
    "print(CC)\n"
   ]
  },
  {
   "cell_type": "markdown",
   "metadata": {},
   "source": [
    "<h3  style=\"background-color: #d5dbdb; color:blue;padding:25px;border-radius: 25px; \"> \n",
    "numpy.all  &  numpy.any\n",
    "</h3>"
   ]
  },
  {
   "cell_type": "code",
   "execution_count": null,
   "metadata": {},
   "outputs": [],
   "source": [
    "import numpy\n",
    "#numpy.all\n",
    "D=numpy.random.randint(-20,29,14)\n",
    "print(\"D=%s\"%D)\n",
    "print(\"tous les éléments de D sont > 21 : numpy.all(D>21) : %s\"%numpy.all(D>21))\n",
    "\n",
    "#numpy.any\n",
    "print(\"il y a des éléments de D qui sont < 21 : numpy.any(D<21) : %s\"%numpy.any(D<21))"
   ]
  },
  {
   "cell_type": "markdown",
   "metadata": {},
   "source": [
    "<h3  style=\"background-color: #d5dbdb; color:blue;padding:25px;border-radius: 25px; \"> \n",
    "numpy.isfinite\n",
    "</h3>"
   ]
  },
  {
   "cell_type": "code",
   "execution_count": null,
   "metadata": {},
   "outputs": [],
   "source": [
    "#numpy.isfinite\n",
    "import numpy\n",
    "\n",
    "C = numpy.random.randint(-7,19,8)\n",
    "print(\"C=\",C)\n",
    "print(\" on ajoute des éléments à C\")\n",
    "C=numpy.append(C,numpy.nan)\n",
    "C=numpy.append(C,120)\n",
    "print(\"nouveau C=\",C)\n",
    "\n",
    "print(\"\\n \")\n",
    "print(\"#numpy.isfinite : séléctionner des éléments qui sont finis\")\n",
    "C[numpy.isfinite(C)]"
   ]
  },
  {
   "cell_type": "markdown",
   "metadata": {},
   "source": [
    "<h3  style=\"background-color: #d5dbdb; color:blue;padding:25px;border-radius: 25px; \"> \n",
    "numpy.unique : occurrences d'une liste\n",
    "</h3>"
   ]
  },
  {
   "cell_type": "code",
   "execution_count": null,
   "metadata": {},
   "outputs": [],
   "source": [
    "# numpy.unique\n",
    "\n",
    "H = numpy.random.randint(-5,10,23)\n",
    "print(\"H=\",H)\n",
    "print(\"***\"*31)\n",
    "\n",
    "print(\"numpy.unique(H) : %s\"%numpy.unique(H))\n",
    "\n",
    "print(\"***\"*31)\n",
    "occurrence, frequence = numpy.unique(H, return_counts=True)\n",
    "\n",
    "print(\"occurrence=\",occurrence)\n",
    "\n",
    "print(\"frequence=\",frequence)\n",
    "\n",
    "print(\"***\"*31)\n",
    "\n",
    "# création de dictionnaire\n",
    "\n",
    "Dic_compte={}\n",
    "for i in range(len(occurrence)):\n",
    "    Dic_compte[occurrence[i]]=frequence[i]\n",
    "    \n",
    "Dic_compte\n",
    "    "
   ]
  },
  {
   "cell_type": "markdown",
   "metadata": {},
   "source": [
    "<h2  style=\"background-color: #d5dbdb; color:blue;padding:25px;border-radius: 25px; \"> \n",
    "Déterminant\n",
    "</h2>"
   ]
  },
  {
   "cell_type": "code",
   "execution_count": null,
   "metadata": {},
   "outputs": [],
   "source": [
    "M3=numpy.random.randint(-7,2,size=[4,4])\n",
    "print(\"M3=\",M3)\n",
    "\n",
    "print(\"***\"*31)\n",
    "D=numpy.linalg.det(M3)\n",
    "print(\"déterminant=%s\"%D)"
   ]
  },
  {
   "cell_type": "markdown",
   "metadata": {},
   "source": [
    "<h2  style=\"background-color: #d5dbdb; color:blue;padding:25px;border-radius: 25px; \"> \n",
    "Matrice inverse\n",
    "</h2>"
   ]
  },
  {
   "cell_type": "code",
   "execution_count": 3,
   "metadata": {},
   "outputs": [
    {
     "name": "stdout",
     "output_type": "stream",
     "text": [
      "M4= [[-7  0  0  1]\n",
      " [-2 -1 -3 -3]\n",
      " [ 0  1  1 -3]\n",
      " [-2 -6  1 -2]]\n",
      "*********************************************************************************************\n"
     ]
    },
    {
     "data": {
      "text/plain": [
       "array([[-0.13851351, -0.01182432, -0.03209459, -0.00337838],\n",
       "       [ 0.04391892, -0.00844595,  0.11993243, -0.14527027],\n",
       "       [ 0.0472973 , -0.23986486,  0.20608108,  0.07432432],\n",
       "       [ 0.03040541, -0.08277027, -0.22466216, -0.02364865]])"
      ]
     },
     "execution_count": 3,
     "metadata": {},
     "output_type": "execute_result"
    }
   ],
   "source": [
    "M4=numpy.random.randint(-7,2,size=[4,4])\n",
    "print(\"M4=\",M4)\n",
    "\n",
    "print(\"***\"*31)\n",
    "numpy.linalg.inv(M4)"
   ]
  },
  {
   "cell_type": "markdown",
   "metadata": {},
   "source": [
    "<h2  style=\"background-color: #d5dbdb; color:blue;padding:25px;border-radius: 25px; \"> \n",
    "Puissance d'une matrice\n",
    "</h2>"
   ]
  },
  {
   "cell_type": "code",
   "execution_count": 4,
   "metadata": {},
   "outputs": [
    {
     "name": "stdout",
     "output_type": "stream",
     "text": [
      "M5= [[ 2 -5]\n",
      " [-3 -1]]\n",
      "*********************************************************************************************\n",
      "M5^3= [[ 53 -90]\n",
      " [-54  -1]]\n"
     ]
    }
   ],
   "source": [
    "M5=numpy.random.randint(-7,3,size=[2,2])\n",
    "print(\"M5=\",M5)\n",
    "\n",
    "print(\"***\"*31)\n",
    "print(\"M5^3=\",numpy.linalg.matrix_power(M5, 3))"
   ]
  },
  {
   "cell_type": "markdown",
   "metadata": {},
   "source": [
    "<h1  style=\"background-color: #d5dbdb; color:blue;padding:25px;border-radius: 25px; \"> \n",
    "Systèmes Linéaires d'équations : AX=B\n",
    "</h1>"
   ]
  },
  {
   "cell_type": "markdown",
   "metadata": {},
   "source": [
    "<h3  style=\"background-color:  #b3b6b7; color:blue;padding:25px;border-radius: 25px; \"> \n",
    "Première méthode\n",
    "</h3>"
   ]
  },
  {
   "cell_type": "code",
   "execution_count": 5,
   "metadata": {},
   "outputs": [
    {
     "name": "stdout",
     "output_type": "stream",
     "text": [
      "*********************************************************************************************\n",
      "A=[[ 0 -2 -3]\n",
      " [-3  1 -5]\n",
      " [-7  1 -3]] \n",
      " B=[[11]\n",
      " [11]\n",
      " [ 7]]\n",
      "\n",
      "-----------------solution  ---------------\n",
      "\n",
      "x=-0.21875 , y=-1.84375 , z=-2.4375\n",
      "-----------------vérification  ---------------\n",
      "\n",
      "AX= [[11.]\n",
      " [11.]\n",
      " [ 7.]]\n"
     ]
    }
   ],
   "source": [
    "import numpy\n",
    "A = numpy.random.randint(-7,2,size=[3,3])\n",
    "B = numpy.random.randint(5,13,size=[3,1])\n",
    "X = numpy.linalg.solve(A, B)\n",
    "\n",
    "print(\"***\"*31)\n",
    "print(\"A=%s \\n B=%s\\n\"%(A,B))\n",
    "\n",
    "print('-----------------solution  ---------------\\n')\n",
    "print(\"x=%s , y=%s , z=%s\"%(X[0][0],X[1][0],X[2][0]))\n",
    "###\n",
    "print('-----------------vérification  ---------------\\n')\n",
    "print(\"AX=\",numpy.dot(A , X))"
   ]
  },
  {
   "cell_type": "markdown",
   "metadata": {},
   "source": [
    "<h3  style=\"background-color:  #b3b6b7; color:blue;padding:25px;border-radius: 25px; \"> \n",
    "Deuxième méthode\n",
    "</h3>"
   ]
  },
  {
   "cell_type": "code",
   "execution_count": 6,
   "metadata": {},
   "outputs": [
    {
     "name": "stdout",
     "output_type": "stream",
     "text": [
      "*********************************************************************************************\n",
      " Matrice A=[[-4 -6 -1]\n",
      " [-1 -4 -1]\n",
      " [-5  1 -4]]\n",
      " Vecteur B=[[11]\n",
      " [ 9]\n",
      " [11]]\n",
      "*********************************************************************************************\n",
      "# utilisant matrice inverse de A\n",
      "solution  : [[ 0.30188679]\n",
      " [-1.45283019]\n",
      " [-3.49056604]] \n",
      "\n",
      "vérification \n",
      "\n"
     ]
    },
    {
     "data": {
      "text/plain": [
       "matrix([[11.],\n",
       "        [ 9.],\n",
       "        [11.]])"
      ]
     },
     "execution_count": 6,
     "metadata": {},
     "output_type": "execute_result"
    }
   ],
   "source": [
    "import numpy\n",
    "\n",
    "A = numpy.matrix([[-4 ,-6 ,-1],[-1 ,-4 ,-1],[-5,  1, -4]])\n",
    "B = numpy.matrix([[11],[9],[11]])\n",
    "\n",
    "print(\"***\"*31)\n",
    "print(\" Matrice A=%s\"%A)\n",
    "print(\" Vecteur B=%s\"%B)\n",
    "print(\"***\"*31)\n",
    "print(\"# utilisant matrice inverse de A\")\n",
    "X = A**(-1)*B\n",
    "print(\"solution  : %s \\n\"%X)\n",
    "print(\"vérification \\n\")\n",
    "\n",
    "A*X\n"
   ]
  },
  {
   "cell_type": "markdown",
   "metadata": {},
   "source": [
    "<h2  style=\"background-color: #d5dbdb; color:blue;padding:25px;border-radius: 25px; \">  \n",
    "concaténation\n",
    "</h2>"
   ]
  },
  {
   "cell_type": "code",
   "execution_count": 7,
   "metadata": {},
   "outputs": [
    {
     "data": {
      "text/plain": [
       "array([[ 1,  2,  3],\n",
       "       [-2, -3,  0]])"
      ]
     },
     "execution_count": 7,
     "metadata": {},
     "output_type": "execute_result"
    }
   ],
   "source": [
    "# joint A et B\n",
    "A = numpy.array([1, 2, 3])\n",
    "B = numpy.array([-2, -3, 0])\n",
    "\n",
    "numpy.vstack((A,B))"
   ]
  },
  {
   "cell_type": "code",
   "execution_count": 8,
   "metadata": {},
   "outputs": [
    {
     "data": {
      "text/plain": [
       "array([ 1,  2,  3, -2, -3,  0])"
      ]
     },
     "execution_count": 8,
     "metadata": {},
     "output_type": "execute_result"
    }
   ],
   "source": [
    "numpy.hstack((A,B))"
   ]
  },
  {
   "cell_type": "code",
   "execution_count": 9,
   "metadata": {},
   "outputs": [
    {
     "name": "stdout",
     "output_type": "stream",
     "text": [
      " avant \n",
      "A = [[-1 -3  1  0]\n",
      " [-3 -6 -1 -3]\n",
      " [ 1 -7 -7 -2]]\n",
      "B = [[ 1  0  0 -1]\n",
      " [-1 -1  1  1]\n",
      " [ 1 -1  0  0]]\n",
      " après\n"
     ]
    },
    {
     "data": {
      "text/plain": [
       "array([[-1, -3,  1,  0],\n",
       "       [-3, -6, -1, -3],\n",
       "       [ 1, -7, -7, -2],\n",
       "       [ 1,  0,  0, -1],\n",
       "       [-1, -1,  1,  1],\n",
       "       [ 1, -1,  0,  0]])"
      ]
     },
     "execution_count": 9,
     "metadata": {},
     "output_type": "execute_result"
    }
   ],
   "source": [
    "A1 = numpy.random.randint(-7,2,size=[3,4])\n",
    "B1 = numpy.random.randint(-1,2,size=[3,4])\n",
    "print(\" avant \")\n",
    "print(\"A = %s\"%A1)\n",
    "print(\"B = %s\"%B1)\n",
    "print(\" après\")\n",
    "numpy.concatenate((A1, B1), axis=0)"
   ]
  },
  {
   "cell_type": "code",
   "execution_count": 10,
   "metadata": {},
   "outputs": [
    {
     "name": "stdout",
     "output_type": "stream",
     "text": [
      " avant \n",
      "[[-2 -7 -2  1]\n",
      " [-1 -5  1 -7]\n",
      " [-2 -5 -4 -3]]\n",
      "[[ 0]\n",
      " [-1]\n",
      " [ 0]\n",
      " [ 0]]\n",
      " après\n"
     ]
    },
    {
     "data": {
      "text/plain": [
       "array([[-2, -1, -2,  0],\n",
       "       [-7, -5, -5, -1],\n",
       "       [-2,  1, -4,  0],\n",
       "       [ 1, -7, -3,  0]])"
      ]
     },
     "execution_count": 10,
     "metadata": {},
     "output_type": "execute_result"
    }
   ],
   "source": [
    "A1 = numpy.random.randint(-7,2,size=[3,4])\n",
    "B1 = numpy.random.randint(-1,2,size=[4,1])\n",
    "\n",
    "print(\" avant \")\n",
    "print(A1)\n",
    "print(B1)\n",
    "print(\" après\")\n",
    "numpy.concatenate((A1.T, B1), axis=1)"
   ]
  },
  {
   "cell_type": "code",
   "execution_count": 11,
   "metadata": {},
   "outputs": [
    {
     "name": "stdout",
     "output_type": "stream",
     "text": [
      "[ 3 -2 -2]\n",
      "[ 9 10 -1  0  1  0  0  7  8]\n"
     ]
    },
    {
     "data": {
      "text/plain": [
       "array([ 3, -2, -2,  0,  0,  9, 10, -1,  0,  1,  0,  0,  7,  8])"
      ]
     },
     "execution_count": 11,
     "metadata": {},
     "output_type": "execute_result"
    }
   ],
   "source": [
    "A2 = numpy.random.randint(-3,5,size=3)\n",
    "B2 = numpy.random.randint(-1,12,size=9)\n",
    "print(A2)\n",
    "print(B2)\n",
    "\n",
    "numpy.r_[A2, 0, 0, B2]"
   ]
  },
  {
   "cell_type": "code",
   "execution_count": null,
   "metadata": {},
   "outputs": [],
   "source": []
  }
 ],
 "metadata": {
  "kernelspec": {
   "display_name": "Python 3 (ipykernel)",
   "language": "python",
   "name": "python3"
  },
  "language_info": {
   "codemirror_mode": {
    "name": "ipython",
    "version": 3
   },
   "file_extension": ".py",
   "mimetype": "text/x-python",
   "name": "python",
   "nbconvert_exporter": "python",
   "pygments_lexer": "ipython3",
   "version": "3.7.3"
  }
 },
 "nbformat": 4,
 "nbformat_minor": 2
}
